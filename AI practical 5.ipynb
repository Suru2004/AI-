{
 "cells": [
  {
   "cell_type": "code",
   "execution_count": null,
   "id": "8116147e-4173-4384-8d04-7572074451ed",
   "metadata": {},
   "outputs": [
    {
     "name": "stdout",
     "output_type": "stream",
     "text": [
      "Hello! I'm a chatbot. Let's talk!\n"
     ]
    }
   ],
   "source": [
    "def simple_chatbot(): \n",
    "    print(\"Hello! I'm a chatbot. Let's talk!\") \n",
    " \n",
    "    color = input(\"What's your favorite color? \").strip() \n",
    "     \n",
    "    food = input(\"What's your favorite food? \").strip() \n",
    "    hobby = input(\"What's your favorite hobby? \").strip() \n",
    " \n",
    "    print(\"\\nNice to meet you! Here's what I learned about you:\") \n",
    "    print(\"Your favorite color is: {}\".format(color)) \n",
    "    print(\"Your favorite food is: {}\".format(food)) \n",
    "    print(\"Your favorite hobby is: {}\".format(hobby)) \n",
    " \n",
    "    while True: \n",
    "        continue_chat = input(\"\\nWould you like to talk about something else? (yes/no): \").strip().lower() \n",
    "        if continue_chat == 'yes': \n",
    "            simple_chatbot()  # Start the conversation again \n",
    "            break \n",
    "        elif continue_chat == 'no': \n",
    "            print(\"Goodbye! It was nice talking to you.\") \n",
    "            break \n",
    "        else: \n",
    "            print(\"Sorry, I didn't understand that. Please type 'yes' or 'no'.\") \n",
    " \n",
    "simple_chatbot() \n",
    " \n"
   ]
  },
  {
   "cell_type": "code",
   "execution_count": null,
   "id": "64d6fffe-2d03-465f-b150-2ff324b55f45",
   "metadata": {},
   "outputs": [],
   "source": [
    "def simple_chatbot():\n",
    "    print(\"🤖 Hello! I’m here to learn more about you. Let's chat!\")\n",
    "\n",
    "    # Ask the user for their favorite book\n",
    "    book = input(\"What's the last book you read? \").strip()\n",
    "\n",
    "    # Ask about their favorite travel destination\n",
    "    destination = input(\"Where's your dream vacation spot? \").strip()\n",
    "\n",
    "    # Ask about a favorite sport or activity\n",
    "    activity = input(\"What's your favorite way to spend a weekend? \").strip()\n",
    "\n",
    "    # Display the collected information\n",
    "    print(\"\\nHere's what I’ve learned about you so far:\")\n",
    "    print(f\"Your favorite book is: {book}\")\n",
    "    print(f\"Your dream vacation spot is: {destination}\")\n",
    "    print(f\"Your favorite weekend activity is: {activity}\")\n",
    "\n",
    "    # Ask if the user wants to continue chatting\n",
    "    while True:\n",
    "        continue_chat = input(\"\\nWould you like to share more or end the chat? (yes/no): \").strip().lower()\n",
    "        if continue_chat == 'yes':\n",
    "            print(\"\\nAwesome! Let's chat more!\\n\")\n",
    "            simple_chatbot()  # Recursively restart the conversation\n",
    "            break\n",
    "        elif continue_chat == 'no':\n",
    "            print(\"🤖 Thanks for chatting! Have a great day!\")\n",
    "            break\n",
    "        else:\n",
    "            print(\"❓ Sorry, I didn't quite get that. Please type 'yes' or 'no'.\")\n",
    "\n",
    "# Start the chatbot\n",
    "simple_chatbot()\n"
   ]
  },
  {
   "cell_type": "code",
   "execution_count": null,
   "id": "ecc169b1-f9a6-485f-bce8-92f660a9c5e9",
   "metadata": {},
   "outputs": [],
   "source": [
    "def simple_customer_chatbot():\n",
    "    print(\"🤖 Hello! Welcome to our Customer Support Chatbot. How can I assist you today?\")\n",
    "\n",
    "    while True:\n",
    "        # Get customer input\n",
    "        user_input = input(\"You: \").strip().lower()\n",
    "\n",
    "        # Greeting and introduction\n",
    "        if \"hello\" in user_input or \"hi\" in user_input:\n",
    "            print(\"🤖 Hi! How can I help you today? Feel free to ask about our products or services.\")\n",
    "\n",
    "        # Product Inquiry\n",
    "        elif \"product\" in user_input or \"buy\" in user_input or \"available\" in user_input:\n",
    "            print(\"🤖 We offer various products, including electronics, furniture, and clothing. What are you interested in?\")\n",
    "        \n",
    "        # Order Status Inquiry\n",
    "        elif \"order\" in user_input or \"track\" in user_input or \"status\" in user_input:\n",
    "            print(\"🤖 Please provide your order ID, and I'll help you track your order status.\")\n",
    "        \n",
    "        # Support/Issue Inquiry\n",
    "        elif \"problem\" in user_input or \"issue\" in user_input or \"help\" in user_input:\n",
    "            print(\"🤖 I'm sorry you're experiencing an issue. Could you please describe the problem you're facing?\")\n",
    "        \n",
    "        # Farewell/Exit\n",
    "        elif \"bye\" in user_input or \"goodbye\" in user_input or \"exit\" in user_input:\n",
    "            print(\"🤖 Goodbye! Thank you for chatting with us. Have a great day!\")\n",
    "            break\n",
    "        \n",
    "        # Unknown input\n",
    "        else:\n",
    "            print(\"🤖 I'm sorry, I didn't understand that. Could you please rephrase or ask about something else?\")\n",
    "\n",
    "# Start the customer service chatbot\n",
    "simple_customer_chatbot()\n"
   ]
  }
 ],
 "metadata": {
  "kernelspec": {
   "display_name": "Python 3 (ipykernel)",
   "language": "python",
   "name": "python3"
  },
  "language_info": {
   "codemirror_mode": {
    "name": "ipython",
    "version": 3
   },
   "file_extension": ".py",
   "mimetype": "text/x-python",
   "name": "python",
   "nbconvert_exporter": "python",
   "pygments_lexer": "ipython3",
   "version": "3.12.7"
  }
 },
 "nbformat": 4,
 "nbformat_minor": 5
}
