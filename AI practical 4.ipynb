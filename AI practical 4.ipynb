{
 "cells": [
  {
   "cell_type": "code",
   "execution_count": 1,
   "id": "e9d9d490-cb7a-4ebd-a4d8-7b99c0e59d81",
   "metadata": {},
   "outputs": [
    {
     "name": "stdout",
     "output_type": "stream",
     "text": [
      "2 solutions for 4-Queens:\n",
      ". Q . . \n",
      ". . . Q \n",
      "Q . . . \n",
      ". . Q . \n",
      "\n",
      ". . Q . \n",
      "Q . . . \n",
      ". . . Q \n",
      ". Q . . \n",
      "\n"
     ]
    }
   ],
   "source": [
    "#N queens problem using backtracking\n",
    "def is_safe(board, row, col, n):\n",
    "    # Check column\n",
    "    for i in range(row):\n",
    "        if board[i] == col or \\\n",
    "           board[i] - i == col - row or \\\n",
    "           board[i] + i == col + row:\n",
    "            return False\n",
    "    return True\n",
    "\n",
    "def solve_n_queens(n):\n",
    "    def backtrack(row, board, solutions):\n",
    "        if row == n:\n",
    "            solutions.append(board[:])\n",
    "            return\n",
    "        for col in range(n):\n",
    "            if is_safe(board, row, col, n):\n",
    "                board[row] = col\n",
    "                backtrack(row + 1, board, solutions)\n",
    "\n",
    "    solutions = []\n",
    "    board = [-1] * n\n",
    "    backtrack(0, board, solutions)\n",
    "    return solutions\n",
    "\n",
    "# Print solutions\n",
    "n = 4\n",
    "solutions = solve_n_queens(n)\n",
    "print(f\"{len(solutions)} solutions for {n}-Queens:\")\n",
    "for sol in solutions:\n",
    "    for row in sol:\n",
    "        print(\". \" * row + \"Q \" + \". \" * (n - row - 1))\n",
    "    print()\n"
   ]
  },
  {
   "cell_type": "code",
   "execution_count": 2,
   "id": "c8b3ee97-c78b-45d6-9bf1-bd3b5a4684dd",
   "metadata": {},
   "outputs": [
    {
     "name": "stdout",
     "output_type": "stream",
     "text": [
      "Graph coloring with 3 colors:\n",
      "Node 0 -> Color 0\n",
      "Node 1 -> Color 1\n",
      "Node 2 -> Color 1\n",
      "Node 3 -> Color 0\n"
     ]
    }
   ],
   "source": [
    "#graph coloring problem using backtracking\n",
    "def is_safe(node, graph, colors, color):\n",
    "    for neighbor in graph[node]:\n",
    "        if colors[neighbor] == color:\n",
    "            return False\n",
    "    return True\n",
    "\n",
    "def graph_coloring(graph, m):\n",
    "    n = len(graph)\n",
    "    colors = [-1] * n\n",
    "\n",
    "    def backtrack(node):\n",
    "        if node == n:\n",
    "            return True\n",
    "        for color in range(m):\n",
    "            if is_safe(node, graph, colors, color):\n",
    "                colors[node] = color\n",
    "                if backtrack(node + 1):\n",
    "                    return True\n",
    "                colors[node] = -1\n",
    "        return False\n",
    "\n",
    "    if backtrack(0):\n",
    "        return colors\n",
    "    else:\n",
    "        return None\n",
    "\n",
    "# Test Graph\n",
    "# Graph as adjacency list: 4 nodes, simple square\n",
    "graph = {\n",
    "    0: [1, 2],\n",
    "    1: [0, 3],\n",
    "    2: [0, 3],\n",
    "    3: [1, 2]\n",
    "}\n",
    "m = 3  # number of colors\n",
    "coloring = graph_coloring(graph, m)\n",
    "\n",
    "print(\"Graph coloring with\", m, \"colors:\" if coloring else \"No solution\")\n",
    "if coloring:\n",
    "    for node, color in enumerate(coloring):\n",
    "        print(f\"Node {node} -> Color {color}\")\n"
   ]
  },
  {
   "cell_type": "code",
   "execution_count": null,
   "id": "571ba7e3-0b54-4864-a047-63b3d6fbcd27",
   "metadata": {},
   "outputs": [],
   "source": []
  }
 ],
 "metadata": {
  "kernelspec": {
   "display_name": "Python 3 (ipykernel)",
   "language": "python",
   "name": "python3"
  },
  "language_info": {
   "codemirror_mode": {
    "name": "ipython",
    "version": 3
   },
   "file_extension": ".py",
   "mimetype": "text/x-python",
   "name": "python",
   "nbconvert_exporter": "python",
   "pygments_lexer": "ipython3",
   "version": "3.12.7"
  }
 },
 "nbformat": 4,
 "nbformat_minor": 5
}
