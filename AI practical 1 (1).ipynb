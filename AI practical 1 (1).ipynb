{
 "cells": [
  {
   "cell_type": "code",
   "execution_count": 1,
   "id": "8741737b-da9f-4781-bb6f-d0c1ac5a226c",
   "metadata": {},
   "outputs": [
    {
     "name": "stdout",
     "output_type": "stream",
     "text": [
      "DFS (recursive):\n",
      "0 1 3 4 2 5 6 \n",
      "BFS:\n",
      "0 1 2 3 4 5 6 "
     ]
    }
   ],
   "source": [
    "#BFS AND DFS UNDIRECTED\n",
    "\n",
    "from collections import defaultdict, deque\n",
    "\n",
    "class Graph:\n",
    "    def __init__(self):\n",
    "        self.graph = defaultdict(list)  # adjacency list\n",
    "\n",
    "    def add_edge(self, u, v):\n",
    "        \"\"\"Add an undirected edge between u and v.\"\"\"\n",
    "        self.graph[u].append(v)\n",
    "        self.graph[v].append(u)\n",
    "\n",
    "    def dfs_recursive(self, start, visited=None):\n",
    "        \"\"\"Recursive DFS traversal from start node.\"\"\"\n",
    "        if visited is None:\n",
    "            visited = set()\n",
    "        visited.add(start)\n",
    "        print(start, end=' ')\n",
    "\n",
    "        for neighbor in self.graph[start]:\n",
    "            if neighbor not in visited:\n",
    "                self.dfs_recursive(neighbor, visited)\n",
    "\n",
    "    def bfs(self, start):\n",
    "        \"\"\"BFS traversal from start node.\"\"\"\n",
    "        visited = set()\n",
    "        queue = deque([start])\n",
    "        visited.add(start)\n",
    "\n",
    "        while queue:\n",
    "            node = queue.popleft()\n",
    "            print(node, end=' ')\n",
    "\n",
    "            for neighbor in self.graph[node]:\n",
    "                if neighbor not in visited:\n",
    "                    visited.add(neighbor)\n",
    "                    queue.append(neighbor)\n",
    "\n",
    "# Sample usage\n",
    "g = Graph()\n",
    "edges = [(0, 1), (0, 2), (1, 3), (1, 4), (2, 5), (5, 6)]\n",
    "for u, v in edges:\n",
    "    g.add_edge(u, v)\n",
    "\n",
    "print(\"DFS (recursive):\")\n",
    "g.dfs_recursive(0)  # Starting from node 0\n",
    "\n",
    "print(\"\\nBFS:\")\n",
    "g.bfs(0)  # Starting from node 0\n"
   ]
  },
  {
   "cell_type": "code",
   "execution_count": null,
   "id": "ef45c606-1711-49d9-a030-418b7db29650",
   "metadata": {},
   "outputs": [],
   "source": []
  }
 ],
 "metadata": {
  "kernelspec": {
   "display_name": "Python 3 (ipykernel)",
   "language": "python",
   "name": "python3"
  },
  "language_info": {
   "codemirror_mode": {
    "name": "ipython",
    "version": 3
   },
   "file_extension": ".py",
   "mimetype": "text/x-python",
   "name": "python",
   "nbconvert_exporter": "python",
   "pygments_lexer": "ipython3",
   "version": "3.12.7"
  }
 },
 "nbformat": 4,
 "nbformat_minor": 5
}
