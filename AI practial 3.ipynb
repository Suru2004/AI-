{
 "cells": [
  {
   "cell_type": "code",
   "execution_count": 4,
   "id": "f40b90ea-416f-41cb-8bc3-e0c0e87cd4d0",
   "metadata": {},
   "outputs": [
    {
     "name": "stdout",
     "output_type": "stream",
     "text": [
      "1. Selection Sort:\n",
      "Original: [64, 25, 12, 22, 11]\n",
      "Sorted:   [11, 12, 22, 25, 64]\n",
      "-------------\n",
      "2. Prim's MST Total Cost: 6\n",
      "-------------\n",
      "3. Dijkstra's Shortest Path from Node 0:\n",
      "Node 0: 0\n",
      "Node 1: 3\n",
      "Node 2: 1\n",
      "Node 3: 4\n",
      "-------------\n",
      "4. Job Scheduling for Max Profit:\n",
      "Job order (by slot): ['c', 'a', 'e']\n",
      "Total Profit: 142\n",
      "-------------\n"
     ]
    }
   ],
   "source": [
    "import heapq\n",
    "from collections import defaultdict\n",
    "\n",
    "# 1. Selection Sort\n",
    "def selection_sort(arr):\n",
    "    for i in range(len(arr)):\n",
    "        min_idx = i\n",
    "        for j in range(i+1, len(arr)):\n",
    "            if arr[j] < arr[min_idx]:\n",
    "                min_idx = j\n",
    "        arr[i], arr[min_idx] = arr[min_idx], arr[i]\n",
    "    return arr\n",
    "\n",
    "# 2. Prim's Algorithm (Minimum Spanning Tree)\n",
    "def prim_mst(graph, start=0):\n",
    "    visited = set()\n",
    "    min_heap = [(0, start)]\n",
    "    total_cost = 0\n",
    "\n",
    "    while min_heap:\n",
    "        cost, node = heapq.heappop(min_heap)\n",
    "        if node not in visited:\n",
    "            visited.add(node)\n",
    "            total_cost += cost\n",
    "            for neighbor, weight in graph[node]:\n",
    "                if neighbor not in visited:\n",
    "                    heapq.heappush(min_heap, (weight, neighbor))\n",
    "    return total_cost\n",
    "\n",
    "# 3. Dijkstra’s Algorithm (Shortest Path)\n",
    "def dijkstra(graph, start):\n",
    "    heap = [(0, start)]\n",
    "    distances = {node: float('inf') for node in graph}\n",
    "    distances[start] = 0\n",
    "\n",
    "    while heap:\n",
    "        curr_dist, node = heapq.heappop(heap)\n",
    "        for neighbor, weight in graph[node]:\n",
    "            new_dist = curr_dist + weight\n",
    "            if new_dist < distances[neighbor]:\n",
    "                distances[neighbor] = new_dist\n",
    "                heapq.heappush(heap, (new_dist, neighbor))\n",
    "    return distances\n",
    "\n",
    "# 4. Job Scheduling (Greedy for Maximum Profit)\n",
    "def job_scheduling(jobs):\n",
    "    jobs.sort(key=lambda x: x[1], reverse=True)\n",
    "    n = max(job[2] for job in jobs)\n",
    "    schedule = [None] * n\n",
    "    total_profit = 0\n",
    "\n",
    "    for job in jobs:\n",
    "        id, profit, deadline = job\n",
    "        for slot in range(deadline - 1, -1, -1):\n",
    "            if schedule[slot] is None:\n",
    "                schedule[slot] = id\n",
    "                total_profit += profit\n",
    "                break\n",
    "    return schedule, total_profit\n",
    "\n",
    "# -----------------------------\n",
    "# 🚀 Run all with outputs\n",
    "# -----------------------------\n",
    "\n",
    "# Selection Sort Test\n",
    "arr = [64, 25, 12, 22, 11]\n",
    "sorted_arr = selection_sort(arr.copy())\n",
    "print(\"1. Selection Sort:\")\n",
    "print(\"Original:\", arr)\n",
    "print(\"Sorted:  \", sorted_arr)\n",
    "print(\"-------------\")\n",
    "\n",
    "# Prim's MST Test\n",
    "graph_mst = {\n",
    "    0: [(1, 4), (2, 3)],\n",
    "    1: [(0, 4), (2, 1), (3, 2)],\n",
    "    2: [(0, 3), (1, 1), (3, 4)],\n",
    "    3: [(1, 2), (2, 4)]\n",
    "}\n",
    "print(\"2. Prim's MST Total Cost:\", prim_mst(graph_mst))\n",
    "print(\"-------------\")\n",
    "\n",
    "# Dijkstra Test\n",
    "graph_dijkstra = {\n",
    "    0: [(1, 4), (2, 1)],\n",
    "    1: [(3, 1)],\n",
    "    2: [(1, 2), (3, 5)],\n",
    "    3: []\n",
    "}\n",
    "distances = dijkstra(graph_dijkstra, 0)\n",
    "print(\"3. Dijkstra's Shortest Path from Node 0:\")\n",
    "for node, dist in distances.items():\n",
    "    print(f\"Node {node}: {dist}\")\n",
    "print(\"-------------\")\n",
    "\n",
    "# Job Scheduling Test\n",
    "jobs = [('a', 100, 2), ('b', 19, 1), ('c', 27, 2), ('d', 25, 1), ('e', 15, 3)]\n",
    "schedule, profit = job_scheduling(jobs)\n",
    "print(\"4. Job Scheduling for Max Profit:\")\n",
    "print(\"Job order (by slot):\", schedule)\n",
    "print(\"Total Profit:\", profit)\n",
    "print(\"-------------\")\n"
   ]
  },
  {
   "cell_type": "code",
   "execution_count": 5,
   "id": "28797050-5016-4c5c-9570-437fcca1ff99",
   "metadata": {},
   "outputs": [
    {
     "name": "stdout",
     "output_type": "stream",
     "text": [
      "Original: [64, 25, 12, 22, 11]\n",
      "Sorted:   [11, 12, 22, 25, 64]\n"
     ]
    }
   ],
   "source": [
    "def selection_sort(arr):\n",
    "    for i in range(len(arr)):\n",
    "        min_idx = i\n",
    "        for j in range(i + 1, len(arr)):\n",
    "            if arr[j] < arr[min_idx]:\n",
    "                min_idx = j\n",
    "        arr[i], arr[min_idx] = arr[min_idx], arr[i]\n",
    "    return arr\n",
    "\n",
    "# Test\n",
    "arr = [64, 25, 12, 22, 11]\n",
    "print(\"Original:\", arr)\n",
    "print(\"Sorted:  \", selection_sort(arr))\n"
   ]
  },
  {
   "cell_type": "code",
   "execution_count": 6,
   "id": "3a745218-506f-4f5c-abe6-6c36e2b9f139",
   "metadata": {},
   "outputs": [
    {
     "name": "stdout",
     "output_type": "stream",
     "text": [
      "Total cost of MST: 6\n"
     ]
    }
   ],
   "source": [
    "import heapq\n",
    "\n",
    "def prim_mst(graph, start=0):\n",
    "    visited = set()\n",
    "    min_heap = [(0, start)]\n",
    "    total_cost = 0\n",
    "\n",
    "    while min_heap:\n",
    "        cost, node = heapq.heappop(min_heap)\n",
    "        if node not in visited:\n",
    "            visited.add(node)\n",
    "            total_cost += cost\n",
    "            for neighbor, weight in graph[node]:\n",
    "                if neighbor not in visited:\n",
    "                    heapq.heappush(min_heap, (weight, neighbor))\n",
    "    return total_cost\n",
    "\n",
    "# Test\n",
    "graph = {\n",
    "    0: [(1, 4), (2, 3)],\n",
    "    1: [(0, 4), (2, 1), (3, 2)],\n",
    "    2: [(0, 3), (1, 1), (3, 4)],\n",
    "    3: [(1, 2), (2, 4)]\n",
    "}\n",
    "print(\"Total cost of MST:\", prim_mst(graph))\n"
   ]
  },
  {
   "cell_type": "code",
   "execution_count": 7,
   "id": "57fc7601-94d2-4c9b-bed0-3ae17151ef90",
   "metadata": {},
   "outputs": [
    {
     "name": "stdout",
     "output_type": "stream",
     "text": [
      "Shortest distances from node 0:\n",
      "Node 0: 0\n",
      "Node 1: 3\n",
      "Node 2: 1\n",
      "Node 3: 4\n"
     ]
    }
   ],
   "source": [
    "import heapq\n",
    "\n",
    "def dijkstra(graph, start):\n",
    "    heap = [(0, start)]\n",
    "    distances = {node: float('inf') for node in graph}\n",
    "    distances[start] = 0\n",
    "\n",
    "    while heap:\n",
    "        curr_dist, node = heapq.heappop(heap)\n",
    "        for neighbor, weight in graph[node]:\n",
    "            new_dist = curr_dist + weight\n",
    "            if new_dist < distances[neighbor]:\n",
    "                distances[neighbor] = new_dist\n",
    "                heapq.heappush(heap, (new_dist, neighbor))\n",
    "    return distances\n",
    "\n",
    "# Test\n",
    "graph = {\n",
    "    0: [(1, 4), (2, 1)],\n",
    "    1: [(3, 1)],\n",
    "    2: [(1, 2), (3, 5)],\n",
    "    3: []\n",
    "}\n",
    "distances = dijkstra(graph, 0)\n",
    "print(\"Shortest distances from node 0:\")\n",
    "for node in sorted(distances):\n",
    "    print(f\"Node {node}: {distances[node]}\")\n"
   ]
  },
  {
   "cell_type": "code",
   "execution_count": 8,
   "id": "e518137d-37f5-43a7-b325-a554819d0f1f",
   "metadata": {},
   "outputs": [
    {
     "name": "stdout",
     "output_type": "stream",
     "text": [
      "Scheduled Jobs: ['c', 'a', 'e']\n",
      "Total Profit: 142\n"
     ]
    }
   ],
   "source": [
    "def job_scheduling(jobs):\n",
    "    jobs.sort(key=lambda x: x[1], reverse=True)\n",
    "    n = max(job[2] for job in jobs)\n",
    "    schedule = [None] * n\n",
    "    total_profit = 0\n",
    "\n",
    "    for job in jobs:\n",
    "        id, profit, deadline = job\n",
    "        for slot in range(deadline - 1, -1, -1):\n",
    "            if schedule[slot] is None:\n",
    "                schedule[slot] = id\n",
    "                total_profit += profit\n",
    "                break\n",
    "    return schedule, total_profit\n",
    "\n",
    "# Test\n",
    "jobs = [('a', 100, 2), ('b', 19, 1), ('c', 27, 2), ('d', 25, 1), ('e', 15, 3)]\n",
    "schedule, profit = job_scheduling(jobs)\n",
    "print(\"Scheduled Jobs:\", schedule)\n",
    "print(\"Total Profit:\", profit)\n"
   ]
  },
  {
   "cell_type": "code",
   "execution_count": null,
   "id": "29f3038c-da8f-4b4b-8459-5728c25c4fd9",
   "metadata": {},
   "outputs": [],
   "source": []
  }
 ],
 "metadata": {
  "kernelspec": {
   "display_name": "Python 3 (ipykernel)",
   "language": "python",
   "name": "python3"
  },
  "language_info": {
   "codemirror_mode": {
    "name": "ipython",
    "version": 3
   },
   "file_extension": ".py",
   "mimetype": "text/x-python",
   "name": "python",
   "nbconvert_exporter": "python",
   "pygments_lexer": "ipython3",
   "version": "3.12.7"
  }
 },
 "nbformat": 4,
 "nbformat_minor": 5
}
